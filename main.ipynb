{
 "cells": [
  {
   "cell_type": "markdown",
   "metadata": {},
   "source": [
    "Declaración de variables a utilizar"
   ]
  },
  {
   "cell_type": "code",
   "execution_count": null,
   "metadata": {},
   "outputs": [],
   "source": [
    "names = \"\"\" Agustin, Yanina, Andrés, Ariadna, Bautista, CAROLINA, CESAR, David, Diego, Dolores, DYLAN, ELIANA, Emanuel, Fabián, Noelia, Francsica', FEDERICO, Fernanda, GONZALO, Nancy \"\"\"\n",
    "goals = [0, 10, 4, 0, 5, 14, 0, 0, 7, 2, 1, 1, 1, 5, 6, 1, 1, 2, 0, 11]\n",
    "goals_avoided = [0, 2, 0, 0, 5, 2, 0, 0, 1, 2, 0, 5, 5, 0, 1, 0, 2, 3, 0, 0]\n",
    "assists = [0, 5, 1, 0, 5, 2, 0, 0, 1, 2, 1, 5, 5, 0, 1, 0, 2, 3, 1, 0]"
   ]
  },
  {
   "cell_type": "markdown",
   "metadata": {},
   "source": [
    "Importo el módulo funct del paquete modulos e invoco la función generar_estructura pasandole como parámetros todas las variables declaradas previamente.\n",
    "Esa función me retorna un diccionario cuyas claves son los nombres de los jugadores y cada una de ellas contiene otro diccionario cuyas claves son los goles, goles evitados y asistencias, y el contenido de cada una de ellas corresponde su valor numérico.\n",
    "Para que la función cumpla su propósito correctamente, los nombres de los jugadores no pueden repetirse, ya que son las claves únivocas (primarias) del diccionario.\n",
    "Asimismo, imprimo la variable team (en la que guardé esta nueva estructura generada) para visualizarla.\n"
   ]
  },
  {
   "cell_type": "code",
   "execution_count": null,
   "metadata": {},
   "outputs": [],
   "source": [
    "from modulos import funct\n",
    "team = funct.generar_estructura(names,goals,goals_avoided,assists)\n",
    "print(team)"
   ]
  },
  {
   "cell_type": "markdown",
   "metadata": {},
   "source": [
    "invoco la funcion goleador(), que retorna una tupla con el nombre del jugador que más goles realizó, y la cantidad de goles, lo asigno a la variable goal_scorer e imprimo la tupla con un f-string"
   ]
  },
  {
   "cell_type": "code",
   "execution_count": null,
   "metadata": {},
   "outputs": [],
   "source": [
    "goal_scorer = funct.goleador(team)\n",
    "print(f'El goleador del equipo es : {goal_scorer[0]}, con {goal_scorer[1]} goles')"
   ]
  },
  {
   "cell_type": "markdown",
   "metadata": {},
   "source": [
    "invoco la funcion jugador_mas_influyente(), que retorna el nombre del jugador más influyente del equipo -conforme la fórmula Goles * 1.5 + Goles evitados * 1.25 + Asistencias * 1-, lo asigno a la variable most_influential e imprimo su valor con un f-string"
   ]
  },
  {
   "cell_type": "code",
   "execution_count": null,
   "metadata": {},
   "outputs": [],
   "source": [
    "most_influential = funct.jugador_mas_influeyente(team)\n",
    "print(f'el jugador mas influyente es : {most_influential}')"
   ]
  },
  {
   "cell_type": "markdown",
   "metadata": {},
   "source": [
    "invoco la funcion promedio_goles_team(), que retorna el número promedio de goles que realizó todo el equipo en total en 25 partidos, lo asigno a la variable average_team_goals e imprimo su valor con un f-string"
   ]
  },
  {
   "cell_type": "code",
   "execution_count": null,
   "metadata": {},
   "outputs": [],
   "source": [
    "average_team_goals = funct.promedio_goles_team(team)\n",
    "print(f'el promedio de goles del equipo en 25 partidos es de : {average_team_goals}')"
   ]
  },
  {
   "cell_type": "markdown",
   "metadata": {},
   "source": [
    "invoco la funcion promedio_goles_player(), que retorna el número promedio de goles que realizó el goleador del equipo (este dato se obtiene de la función goleador() invocada previamente) en 25 partidos, lo asigno a la variable average_plater_goals e imprimo su valor con un f-string junto con el nombre del mismo(guardado en la posición 0 de la tupla goal_scorer producto de la función citada)"
   ]
  },
  {
   "cell_type": "code",
   "execution_count": null,
   "metadata": {},
   "outputs": [],
   "source": [
    "average_player_goals = funct.promedio_goles_player(team)\n",
    "print(f'el promedio de goles de {goal_scorer[0]} en 25 partidos es de {average_player_goals}')"
   ]
  }
 ],
 "metadata": {
  "kernelspec": {
   "display_name": "venv",
   "language": "python",
   "name": "python3"
  },
  "language_info": {
   "codemirror_mode": {
    "name": "ipython",
    "version": 3
   },
   "file_extension": ".py",
   "mimetype": "text/x-python",
   "name": "python",
   "nbconvert_exporter": "python",
   "pygments_lexer": "ipython3",
   "version": "3.10.7"
  }
 },
 "nbformat": 4,
 "nbformat_minor": 2
}
